{
 "cells": [
  {
   "cell_type": "markdown",
   "metadata": {},
   "source": [
    "# Discovering structure in heatmap data\n",
    "\n",
    "***\n",
    "\n",
    "## Commands used to download the data\n",
    "\n",
    "```bash\n",
    "#!/usr/bin/env bash\n",
    "# This script downloads the CAMI data, just pipe it the samples you want (Airways, Oral etc.)\n",
    "\n",
    "dataset=$1\n",
    "mkdir $1 && cd $_\n",
    "echo \"downloading the ${1} read data from CAMI\"\n",
    "URL=\"https://openstack.cebitec.uni-bielefeld.de:8080/swift/v1/CAMI_${1}/\"\n",
    "echo \"url: ${URL}\"\n",
    "\n",
    "# get the file list\n",
    "curl ${URL} | grep 'fq.gz' >> reads.list\n",
    "\n",
    "# download each file in turn and store in sequentially labelled fastqs\n",
    "COUNTER=1\n",
    "while read -r line\n",
    "    do\n",
    "    download=${URL}${line}\n",
    "    curl ${download} -o ${COUNTER}.fastq.gz\n",
    "    COUNTER=$((COUNTER + 1))\n",
    "    echo \"downloaded ${download} and saved to ${COUNTER}.fastq.gz\"\n",
    "    done < reads.list\n",
    "echo \"finished.\"\n",
    "```\n",
    "\n",
    "## Commands used to generate the sketches\n",
    "\n",
    "``` bash\n",
    "#!/usr/bin/env bash\n",
    "\n",
    "# This script automates the submission of HULK jobs to the Scafell cluster.\n",
    "# It will run HULK on each set of CAMI samples, storing the sketches for each in a separate directory\n",
    "\n",
    "# PARAMETERS\n",
    "## general\n",
    "CPU=12\n",
    "QUEUE=scafellpikeSKL\n",
    "WALL=0:20\n",
    "SAMPLES=( \"Airways\" \"Gastrointestinal_tract\" \"Oral\" \"Skin\" \"Urogenital_tract\" )\n",
    "## hulk\n",
    "K=21\n",
    "S=512\n",
    "\n",
    "# JOB SUBMISSION\n",
    "mkdir illumina-hulk-sketches-k${K}-s${S} && cd $_\n",
    "counter=0\n",
    "## the cami files are sequentially ordered in each download (1-10 = pacbio, 11-20 = short read)\n",
    "for i in {11..20}\n",
    "  do\n",
    "  for name in \"${SAMPLES[@]}\"\n",
    "    do\n",
    "    outfile=${name}.${i}\n",
    "    CMD=\"gunzip -c ../${name}/${i}.fastq.gz | hulk sketch -p ${CPU} -s ${S} -k ${K} -o ${outfile}\"\n",
    "    echo $CMD | bsub -n ${CPU} -R \"span[ptile=${CPU}]\" -W ${WALL} -q ${QUEUE}\n",
    "  done\n",
    "done\n",
    "```\n",
    "\n",
    "## Command used to generate pairwise jaccard similarity matrix from the sketches\n",
    "\n",
    "\n",
    "```\n",
    "# This will leave us with a file called `sketches-sr-k21-s512.jsMatrix.csv` which we then use in this analysis.\n",
    "hulk smash -o sketches-sr-k7-s256 --jsMatrix\n",
    "```"
   ]
  },
  {
   "cell_type": "code",
   "execution_count": 3,
   "metadata": {},
   "outputs": [
    {
     "name": "stderr",
     "output_type": "stream",
     "text": [
      "/Users/willrowe/miniconda3/lib/python3.6/importlib/_bootstrap.py:219: RuntimeWarning: numpy.dtype size changed, may indicate binary incompatibility. Expected 96, got 88\n",
      "  return f(*args, **kwds)\n",
      "/Users/willrowe/miniconda3/lib/python3.6/importlib/_bootstrap.py:219: RuntimeWarning: numpy.dtype size changed, may indicate binary incompatibility. Expected 96, got 88\n",
      "  return f(*args, **kwds)\n"
     ]
    }
   ],
   "source": [
    "# Pandas for managing datasets\n",
    "import pandas as pd\n",
    "\n",
    "# Re for cleaning up data headers\n",
    "import re\n",
    "\n",
    "# Matplotlib for additional customization\n",
    "from matplotlib import pyplot as plt\n",
    "%matplotlib inline\n",
    "\n",
    "# Seaborn for plotting and styling\n",
    "import seaborn as sns\n",
    "sns.set()"
   ]
  },
  {
   "cell_type": "code",
   "execution_count": 4,
   "metadata": {},
   "outputs": [],
   "source": [
    "# Read dataset\n",
    "df = pd.read_csv('data/k21s512.js-matrix.csv')"
   ]
  },
  {
   "cell_type": "code",
   "execution_count": 5,
   "metadata": {},
   "outputs": [
    {
     "data": {
      "text/html": [
       "<div>\n",
       "<style scoped>\n",
       "    .dataframe tbody tr th:only-of-type {\n",
       "        vertical-align: middle;\n",
       "    }\n",
       "\n",
       "    .dataframe tbody tr th {\n",
       "        vertical-align: top;\n",
       "    }\n",
       "\n",
       "    .dataframe thead th {\n",
       "        text-align: right;\n",
       "    }\n",
       "</style>\n",
       "<table border=\"1\" class=\"dataframe\">\n",
       "  <thead>\n",
       "    <tr style=\"text-align: right;\">\n",
       "      <th></th>\n",
       "      <th>Urogenital_tract</th>\n",
       "      <th>Gastrointestinal_tract</th>\n",
       "      <th>Oral</th>\n",
       "      <th>Oral</th>\n",
       "      <th>Skin</th>\n",
       "      <th>Skin</th>\n",
       "      <th>Airways</th>\n",
       "      <th>Gastrointestinal_tract</th>\n",
       "      <th>Gastrointestinal_tract</th>\n",
       "      <th>Gastrointestinal_tract</th>\n",
       "      <th>...</th>\n",
       "      <th>Skin</th>\n",
       "      <th>Urogenital_tract</th>\n",
       "      <th>Airways</th>\n",
       "      <th>Airways</th>\n",
       "      <th>Gastrointestinal_tract</th>\n",
       "      <th>Skin</th>\n",
       "      <th>Urogenital_tract</th>\n",
       "      <th>Gastrointestinal_tract</th>\n",
       "      <th>Oral</th>\n",
       "      <th>Skin</th>\n",
       "    </tr>\n",
       "  </thead>\n",
       "  <tbody>\n",
       "    <tr>\n",
       "      <th>0</th>\n",
       "      <td>1.00</td>\n",
       "      <td>0.87</td>\n",
       "      <td>0.87</td>\n",
       "      <td>0.88</td>\n",
       "      <td>0.89</td>\n",
       "      <td>0.85</td>\n",
       "      <td>0.86</td>\n",
       "      <td>0.86</td>\n",
       "      <td>0.87</td>\n",
       "      <td>0.87</td>\n",
       "      <td>...</td>\n",
       "      <td>0.80</td>\n",
       "      <td>0.84</td>\n",
       "      <td>0.88</td>\n",
       "      <td>0.86</td>\n",
       "      <td>0.86</td>\n",
       "      <td>0.84</td>\n",
       "      <td>0.86</td>\n",
       "      <td>0.85</td>\n",
       "      <td>0.85</td>\n",
       "      <td>0.86</td>\n",
       "    </tr>\n",
       "    <tr>\n",
       "      <th>1</th>\n",
       "      <td>0.87</td>\n",
       "      <td>1.00</td>\n",
       "      <td>0.86</td>\n",
       "      <td>0.88</td>\n",
       "      <td>0.89</td>\n",
       "      <td>0.86</td>\n",
       "      <td>0.87</td>\n",
       "      <td>0.91</td>\n",
       "      <td>0.91</td>\n",
       "      <td>0.93</td>\n",
       "      <td>...</td>\n",
       "      <td>0.80</td>\n",
       "      <td>0.82</td>\n",
       "      <td>0.89</td>\n",
       "      <td>0.87</td>\n",
       "      <td>0.90</td>\n",
       "      <td>0.87</td>\n",
       "      <td>0.86</td>\n",
       "      <td>0.90</td>\n",
       "      <td>0.86</td>\n",
       "      <td>0.86</td>\n",
       "    </tr>\n",
       "    <tr>\n",
       "      <th>2</th>\n",
       "      <td>0.87</td>\n",
       "      <td>0.86</td>\n",
       "      <td>1.00</td>\n",
       "      <td>0.89</td>\n",
       "      <td>0.88</td>\n",
       "      <td>0.86</td>\n",
       "      <td>0.85</td>\n",
       "      <td>0.84</td>\n",
       "      <td>0.86</td>\n",
       "      <td>0.88</td>\n",
       "      <td>...</td>\n",
       "      <td>0.81</td>\n",
       "      <td>0.84</td>\n",
       "      <td>0.88</td>\n",
       "      <td>0.85</td>\n",
       "      <td>0.86</td>\n",
       "      <td>0.84</td>\n",
       "      <td>0.81</td>\n",
       "      <td>0.84</td>\n",
       "      <td>0.90</td>\n",
       "      <td>0.85</td>\n",
       "    </tr>\n",
       "    <tr>\n",
       "      <th>3</th>\n",
       "      <td>0.88</td>\n",
       "      <td>0.88</td>\n",
       "      <td>0.89</td>\n",
       "      <td>1.00</td>\n",
       "      <td>0.89</td>\n",
       "      <td>0.87</td>\n",
       "      <td>0.86</td>\n",
       "      <td>0.86</td>\n",
       "      <td>0.87</td>\n",
       "      <td>0.89</td>\n",
       "      <td>...</td>\n",
       "      <td>0.82</td>\n",
       "      <td>0.84</td>\n",
       "      <td>0.88</td>\n",
       "      <td>0.86</td>\n",
       "      <td>0.87</td>\n",
       "      <td>0.85</td>\n",
       "      <td>0.83</td>\n",
       "      <td>0.85</td>\n",
       "      <td>0.89</td>\n",
       "      <td>0.86</td>\n",
       "    </tr>\n",
       "    <tr>\n",
       "      <th>4</th>\n",
       "      <td>0.89</td>\n",
       "      <td>0.89</td>\n",
       "      <td>0.88</td>\n",
       "      <td>0.89</td>\n",
       "      <td>1.00</td>\n",
       "      <td>0.89</td>\n",
       "      <td>0.90</td>\n",
       "      <td>0.85</td>\n",
       "      <td>0.89</td>\n",
       "      <td>0.88</td>\n",
       "      <td>...</td>\n",
       "      <td>0.85</td>\n",
       "      <td>0.85</td>\n",
       "      <td>0.90</td>\n",
       "      <td>0.91</td>\n",
       "      <td>0.87</td>\n",
       "      <td>0.89</td>\n",
       "      <td>0.84</td>\n",
       "      <td>0.86</td>\n",
       "      <td>0.87</td>\n",
       "      <td>0.88</td>\n",
       "    </tr>\n",
       "  </tbody>\n",
       "</table>\n",
       "<p>5 rows × 44 columns</p>\n",
       "</div>"
      ],
      "text/plain": [
       "   Urogenital_tract  Gastrointestinal_tract  Oral  Oral  Skin  Skin  Airways  \\\n",
       "0              1.00                    0.87  0.87  0.88  0.89  0.85     0.86   \n",
       "1              0.87                    1.00  0.86  0.88  0.89  0.86     0.87   \n",
       "2              0.87                    0.86  1.00  0.89  0.88  0.86     0.85   \n",
       "3              0.88                    0.88  0.89  1.00  0.89  0.87     0.86   \n",
       "4              0.89                    0.89  0.88  0.89  1.00  0.89     0.90   \n",
       "\n",
       "   Gastrointestinal_tract  Gastrointestinal_tract  Gastrointestinal_tract  \\\n",
       "0                    0.86                    0.87                    0.87   \n",
       "1                    0.91                    0.91                    0.93   \n",
       "2                    0.84                    0.86                    0.88   \n",
       "3                    0.86                    0.87                    0.89   \n",
       "4                    0.85                    0.89                    0.88   \n",
       "\n",
       "   ...   Skin  Urogenital_tract  Airways  Airways  Gastrointestinal_tract  \\\n",
       "0  ...   0.80              0.84     0.88     0.86                    0.86   \n",
       "1  ...   0.80              0.82     0.89     0.87                    0.90   \n",
       "2  ...   0.81              0.84     0.88     0.85                    0.86   \n",
       "3  ...   0.82              0.84     0.88     0.86                    0.87   \n",
       "4  ...   0.85              0.85     0.90     0.91                    0.87   \n",
       "\n",
       "   Skin  Urogenital_tract  Gastrointestinal_tract  Oral  Skin  \n",
       "0  0.84              0.86                    0.85  0.85  0.86  \n",
       "1  0.87              0.86                    0.90  0.86  0.86  \n",
       "2  0.84              0.81                    0.84  0.90  0.85  \n",
       "3  0.85              0.83                    0.85  0.89  0.86  \n",
       "4  0.89              0.84                    0.86  0.87  0.88  \n",
       "\n",
       "[5 rows x 44 columns]"
      ]
     },
     "execution_count": 5,
     "metadata": {},
     "output_type": "execute_result"
    }
   ],
   "source": [
    "# Rename columns to just body site\n",
    "df = df.rename(columns=lambda x: re.sub('.\\d+.sketch','',x))\n",
    "df.head()"
   ]
  },
  {
   "cell_type": "code",
   "execution_count": 6,
   "metadata": {},
   "outputs": [
    {
     "data": {
      "text/plain": [
       "Gastrointestinal_tract    10\n",
       "Skin                      10\n",
       "Oral                       9\n",
       "Urogenital_tract           8\n",
       "Airways                    7\n",
       "dtype: int64"
      ]
     },
     "execution_count": 6,
     "metadata": {},
     "output_type": "execute_result"
    }
   ],
   "source": [
    "# Check number of samples for each body site\n",
    "df.columns.value_counts()"
   ]
  },
  {
   "cell_type": "code",
   "execution_count": null,
   "metadata": {},
   "outputs": [],
   "source": []
  },
  {
   "cell_type": "code",
   "execution_count": 7,
   "metadata": {},
   "outputs": [],
   "source": [
    "# Get the body site labels\n",
    "sites = pd.Series(df.columns)"
   ]
  },
  {
   "cell_type": "code",
   "execution_count": 8,
   "metadata": {},
   "outputs": [],
   "source": [
    "# Create a palette to identify the body sites\n",
    "sites_pal = sns.color_palette(\"husl\", len(sites.unique()))"
   ]
  },
  {
   "cell_type": "code",
   "execution_count": 9,
   "metadata": {},
   "outputs": [],
   "source": [
    "# Create a lookup table to link palette to body site\n",
    "lut = dict(zip(sites.unique(), sites_pal))"
   ]
  },
  {
   "cell_type": "code",
   "execution_count": 10,
   "metadata": {},
   "outputs": [],
   "source": [
    "# Convert the palette to vectors that will be drawn on the side of the matrix\n",
    "colours = sites.map(lut)"
   ]
  },
  {
   "cell_type": "code",
   "execution_count": 11,
   "metadata": {},
   "outputs": [
    {
     "data": {
      "text/plain": [
       "Text(0.5,0.98,'heatmap...')"
      ]
     },
     "execution_count": 11,
     "metadata": {},
     "output_type": "execute_result"
    },
    {
     "data": {
      "image/png": "[encoded data removed]",
      "text/plain": [
       "<Figure size 864x864 with 5 Axes>"
      ]
     },
     "metadata": {},
     "output_type": "display_data"
    }
   ],
   "source": [
    "g = sns.clustermap(df, method='complete', metric='correlation', cmap=\"vlag\",\n",
    "                   row_colors=colours, row_cluster=True, col_cluster=True,\n",
    "                   linewidths=.50, figsize=(12, 12))\n",
    "g.fig.suptitle(\"heatmap...\")"
   ]
  },
  {
   "cell_type": "code",
   "execution_count": null,
   "metadata": {},
   "outputs": [],
   "source": []
  },
  {
   "cell_type": "code",
   "execution_count": null,
   "metadata": {},
   "outputs": [],
   "source": []
  }
 ],
 "metadata": {
  "kernelspec": {
   "display_name": "Python 3",
   "language": "python",
   "name": "python3"
  },
  "language_info": {
   "codemirror_mode": {
    "name": "ipython",
    "version": 3
   },
   "file_extension": ".py",
   "mimetype": "text/x-python",
   "name": "python",
   "nbconvert_exporter": "python",
   "pygments_lexer": "ipython3",
   "version": "3.6.5"
  }
 },
 "nbformat": 4,
 "nbformat_minor": 2
}
