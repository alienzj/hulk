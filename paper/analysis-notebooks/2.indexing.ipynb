{
 "cells": [
  {
   "cell_type": "markdown",
   "metadata": {},
   "source": [
    "# Indexing and searching microbiome data using HULK sketches\n",
    "\n",
    "***\n",
    "\n",
    "## Commands used to generate and search the index\n",
    "\n",
    "* Make a separate directory to split the queries from the other sketches\n",
    "\n",
    "```\n",
    "cd data/2.indexing/ && mkdir cami-queries\n",
    "```\n",
    "\n",
    "* Get one query from each body site and then move it to the queries pile\n",
    "\n",
    "```\n",
    "for i in cami-sketches/*; do mkdir cami-queries/${i##*/}; ls $i | sort -R | tail -n 1 | xargs -I {} sh -c \"mv $i/{} cami-queries/${i##*/}\"; done\n",
    "```\n",
    "\n",
    "* Create an index of the CAMI sketches, using a Jaccard Similarity theshold of 90%\n",
    "\n",
    "```\n",
    "hulk index -r create -n cami.index -j 0.90 -d ./cami-sketches/ --recursive\n",
    "```\n",
    "\n",
    "* Search the index using our queries\n",
    "\n",
    "```\n",
    "hulk index -r search -n cami.index -j 0.90 -d cami-queries/ --recursive > hulk-search-results.txt\n",
    "```\n",
    "\n",
    "## Commands used to generate the feature matrix from the sketches\n",
    "\n",
    "* For each label in `data/cami-sketches`, generate a bannerMatrix of features e.g.:\n",
    "\n",
    "```\n",
    "for i in cami-sketches/*\n",
    "do\n",
    "site=${i##*/}\n",
    "hulk smash --bannerMatrix -d ${i}/ -o ${site} -l ${site}\n",
    "done\n",
    "```\n",
    "\n",
    "* Now get a matrix of all the queries, then add them to the previous file:\n",
    "\n",
    "```\n",
    "for i in cami-queries/*/*.sketch\n",
    "do\n",
    "fn=${i##*/*/}\n",
    "hulk print -f ${i} | sed s/cami-queries.*/q-${fn}/g >> queries.csv\n",
    "done\n",
    "```\n",
    "\n",
    "* Combine the CSVs:\n",
    "\n",
    "```\n",
    "cat *.csv > labelled-sketches.csv && rm *.banner-matrix.csv\n",
    "```"
   ]
  },
  {
   "cell_type": "code",
   "execution_count": 1,
   "metadata": {},
   "outputs": [
    {
     "name": "stderr",
     "output_type": "stream",
     "text": [
      "/Users/willrowe/miniconda3/lib/python3.6/importlib/_bootstrap.py:219: RuntimeWarning: numpy.dtype size changed, may indicate binary incompatibility. Expected 96, got 88\n",
      "  return f(*args, **kwds)\n",
      "/Users/willrowe/miniconda3/lib/python3.6/importlib/_bootstrap.py:219: RuntimeWarning: numpy.dtype size changed, may indicate binary incompatibility. Expected 96, got 88\n",
      "  return f(*args, **kwds)\n"
     ]
    }
   ],
   "source": [
    "import pandas as pd\n",
    "from sklearn.preprocessing import StandardScaler\n",
    "from sklearn.decomposition import PCA\n",
    "import seaborn as sns\n",
    "\n",
    "sns.set_style('whitegrid', rc={'figure.figsize':(11.7,8.27)})"
   ]
  },
  {
   "cell_type": "code",
   "execution_count": 2,
   "metadata": {},
   "outputs": [],
   "source": [
    "# Load the sketches\n",
    "df = pd.read_csv(\"data/2.indexing/labelled-sketches.csv\", header=None)"
   ]
  },
  {
   "cell_type": "code",
   "execution_count": 3,
   "metadata": {},
   "outputs": [
    {
     "name": "stderr",
     "output_type": "stream",
     "text": [
      "/Users/willrowe/miniconda3/lib/python3.6/site-packages/sklearn/utils/validation.py:475: DataConversionWarning: Data with input dtype int64 was converted to float64 by StandardScaler.\n",
      "  warnings.warn(msg, DataConversionWarning)\n"
     ]
    }
   ],
   "source": [
    "# Separating out the label\n",
    "y = df.loc[:, [len(df.columns)-1]].values\n",
    "\n",
    "# Separating out the features\n",
    "x = df.loc[:, 0:len(df.columns)-2].values\n",
    "\n",
    "# Standardizing the features\n",
    "x = StandardScaler().fit_transform(x)"
   ]
  },
  {
   "cell_type": "code",
   "execution_count": 4,
   "metadata": {},
   "outputs": [],
   "source": [
    "# PCA projection\n",
    "pca = PCA(n_components=2)\n",
    "principalComponents = pca.fit_transform(x)\n",
    "principalDf = pd.DataFrame(data = principalComponents, columns = ['principal component 1', 'principal component 2'])\n",
    "finalDf = pd.concat([principalDf, df[[len(df.columns)-1]]], axis = 1)\n",
    "finalDf = finalDf.rename(columns={512: 'label'})"
   ]
  },
  {
   "cell_type": "code",
   "execution_count": 5,
   "metadata": {},
   "outputs": [
    {
     "data": {
      "text/plain": [
       "<seaborn.axisgrid.FacetGrid at 0x1210f6550>"
      ]
     },
     "execution_count": 5,
     "metadata": {},
     "output_type": "execute_result"
    },
    {
     "data": {
      "image/png": "[encoded data removed]",
      "text/plain": [
       "<Figure size 546.5x360 with 1 Axes>"
      ]
     },
     "metadata": {},
     "output_type": "display_data"
    }
   ],
   "source": [
    "# Plot the PCA\n",
    "## get safe colours\n",
    "labels = finalDf.label.unique()\n",
    "pal = sns.color_palette(\"colorblind\", len(labels))\n",
    "\n",
    "## plot\n",
    "sns.lmplot(x='principal component 1', y='principal component 2', data=finalDf, fit_reg=False, hue='label', palette=pal) "
   ]
  },
  {
   "cell_type": "code",
   "execution_count": 6,
   "metadata": {},
   "outputs": [],
   "source": [
    "# To generate the final figure, I overlayed the sample names and drew red circles around LSH Forest search results. Queries (q-) were relabelled to stars. "
   ]
  },
  {
   "cell_type": "code",
   "execution_count": null,
   "metadata": {},
   "outputs": [],
   "source": []
  },
  {
   "cell_type": "code",
   "execution_count": null,
   "metadata": {},
   "outputs": [],
   "source": []
  },
  {
   "cell_type": "code",
   "execution_count": null,
   "metadata": {},
   "outputs": [],
   "source": []
  },
  {
   "cell_type": "code",
   "execution_count": null,
   "metadata": {},
   "outputs": [],
   "source": []
  },
  {
   "cell_type": "code",
   "execution_count": null,
   "metadata": {},
   "outputs": [],
   "source": []
  },
  {
   "cell_type": "code",
   "execution_count": null,
   "metadata": {},
   "outputs": [],
   "source": []
  }
 ],
 "metadata": {
  "kernelspec": {
   "display_name": "Python 3",
   "language": "python",
   "name": "python3"
  },
  "language_info": {
   "codemirror_mode": {
    "name": "ipython",
    "version": 3
   },
   "file_extension": ".py",
   "mimetype": "text/x-python",
   "name": "python",
   "nbconvert_exporter": "python",
   "pygments_lexer": "ipython3",
   "version": "3.7.0"
  }
 },
 "nbformat": 4,
 "nbformat_minor": 2
}
